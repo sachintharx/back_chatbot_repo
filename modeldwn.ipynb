{
 "cells": [
  {
   "cell_type": "code",
   "execution_count": 6,
   "metadata": {},
   "outputs": [
    {
     "name": "stdout",
     "output_type": "stream",
     "text": [
      "Total download size: 0.00 MB\n"
     ]
    }
   ],
   "source": [
    "from huggingface_hub import HfApi\n",
    "\n",
    "# Initialize the API\n",
    "api = HfApi()\n",
    "\n",
    "# Fetch model information\n",
    "repo_id = \"mistralai/Mistral-Nemo-Instruct-2407\"\n",
    "model_info = api.model_info(repo_id=repo_id)\n",
    "\n",
    "# Calculate the total size of files\n",
    "total_size = sum(sibling.size for sibling in model_info.siblings if sibling.size is not None)\n",
    "\n",
    "print(f\"Total download size: {total_size / (1024 ** 2):.2f} MB\")\n"
   ]
  }
 ],
 "metadata": {
  "kernelspec": {
   "display_name": "base",
   "language": "python",
   "name": "python3"
  },
  "language_info": {
   "codemirror_mode": {
    "name": "ipython",
    "version": 3
   },
   "file_extension": ".py",
   "mimetype": "text/x-python",
   "name": "python",
   "nbconvert_exporter": "python",
   "pygments_lexer": "ipython3",
   "version": "3.12.7"
  }
 },
 "nbformat": 4,
 "nbformat_minor": 2
}
